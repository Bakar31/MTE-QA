{
 "cells": [
  {
   "cell_type": "code",
   "execution_count": 1,
   "metadata": {},
   "outputs": [],
   "source": [
    "import warnings\n",
    "warnings.filterwarnings(\"ignore\")"
   ]
  },
  {
   "cell_type": "code",
   "execution_count": 2,
   "metadata": {},
   "outputs": [
    {
     "name": "stderr",
     "output_type": "stream",
     "text": [
      "WARNING:haystack.modeling.model.prediction_head:Some unused parameters are passed to the QuestionAnsweringHead. Might not be a problem. Params: {\"training\": true, \"num_labels\": 2, \"ph_output_type\": \"per_token_squad\", \"model_type\": \"span_classification\", \"label_tensor_name\": \"question_answering_label_ids\", \"label_list\": [\"start_token\", \"end_token\"], \"metric\": \"squad\", \"name\": \"QuestionAnsweringHead\"}\n"
     ]
    }
   ],
   "source": [
    "from haystack.nodes import FARMReader\n",
    "mte_reader = FARMReader(model_name_or_path='../MTE_QA_model/',\n",
    "                        top_k = 2,\n",
    "                        max_seq_len = 512,\n",
    "                        context_window_size = 100,\n",
    "                        confidence_threshold = 0.3,\n",
    "                        use_gpu= True)"
   ]
  },
  {
   "cell_type": "code",
   "execution_count": 3,
   "metadata": {},
   "outputs": [],
   "source": [
    "with open('../data/context.txt', 'r') as file:\n",
    "    context = file.read().replace('\\n', '')"
   ]
  },
  {
   "cell_type": "code",
   "execution_count": 4,
   "metadata": {},
   "outputs": [],
   "source": [
    "def get_answer(question):\n",
    "\n",
    "  prediction = mte_reader.predict_on_texts(question,[context])\n",
    "\n",
    "  if len(prediction['answers']) > 2:\n",
    "    first_anwer = prediction['answers'][0:2][0].answer\n",
    "    first_score = prediction['answers'][0:2][0].score\n",
    "    second_anwer = prediction['answers'][0:2][1].answer\n",
    "    second_score = prediction['answers'][0:2][1].score\n",
    "\n",
    "  elif len(prediction['answers']) == 2:\n",
    "    first_anwer = prediction['answers'][0].answer\n",
    "    first_score = prediction['answers'][0].score\n",
    "    second_anwer = prediction['answers'][1].answer\n",
    "    second_score = prediction['answers'][1].score\n",
    "\n",
    "  elif len(prediction['answers']) == 1:\n",
    "    first_anwer = prediction['answers'][0].answer\n",
    "    first_score = prediction['answers'][0].score\n",
    "    second_anwer = \"Sorry, I am not confident enough to provide a second answer.\"\n",
    "    second_score = \" \"\n",
    "\n",
    "  elif len(prediction['answers']) == 0:\n",
    "    first_anwer = \"Sorry! I am not confident to answer this question. I am a Language model and I don't have knowledge other than Mechatronics Engineering. You can find some demo questions in the github repo provided by the owner. Thank you!\"\n",
    "    first_score = ' '\n",
    "    second_anwer = \"\"\n",
    "    second_score = \" \"\n",
    "\n",
    "\n",
    "  print('Answer: {} \\nconfidence score: {}'.format(first_anwer, first_score))\n",
    "  print('\\n')\n",
    "  print('2nd Answer: {} \\nconfidence score: {}'.format(second_anwer, second_score))"
   ]
  },
  {
   "cell_type": "code",
   "execution_count": 5,
   "metadata": {},
   "outputs": [],
   "source": [
    "questions = ['what is mechatronics engineering?',\n",
    "             'what is the origin of mechatronics?', \n",
    "             'why persue mechatronics engineering?', \n",
    "             'What is a good example of a mechatronics system?',\n",
    "             'What does a mechatronics engineer do?',\n",
    "             'salary of a mechatronics engineer?', \n",
    "             'Is a mechatronics engineer worth hiring?', \n",
    "             \"What does a mechatronics specialist do?\", \n",
    "             'Is there the connection between Iot and mechatronics?',\n",
    "             'job sector for mechatronics engineers?',  \n",
    "             'career opputunities for a mechatronics engineer?',\n",
    "             'How are mechatronics engineers changing the world?', \n",
    "             'Job responsibilities of a mechatronics engineer?', \n",
    "             'job sector for mechatronics engineers?', \n",
    "             'what are some examples of mechatronics products?',\n",
    "             'What is the salary of a robotic expert?', \n",
    "             'What can I do after completing a degree in mechatronics?', \n",
    "             'whay should I hire a mechatronics?',\n",
    "             'what is the best university in bangladesh for mechatronics degree?',\n",
    "             'Mechatronics engineering in Bangladesh?', \n",
    "             'what are the roles of mechatronics in healthcare?',\n",
    "             'What does a mechatronics engineer do in the medical field?',\n",
    "             'What are the roles of mechatronics engineers in an industry?', \n",
    "             'Is a mechatronics engineer suited for the defense industry?', \n",
    "             'Is a mechatronics engineer suited for the telecom industry?',\n",
    "             'What are the applications of mechatronics in automobiles?',\n",
    "             ]"
   ]
  },
  {
   "cell_type": "code",
   "execution_count": 6,
   "metadata": {},
   "outputs": [
    {
     "name": "stdout",
     "output_type": "stream",
     "text": [
      "1:what is mechatronics engineering?\n"
     ]
    },
    {
     "name": "stderr",
     "output_type": "stream",
     "text": [
      "Inferencing Samples: 100%|██████████| 1/1 [00:06<00:00,  6.57s/ Batches]\n"
     ]
    },
    {
     "name": "stdout",
     "output_type": "stream",
     "text": [
      "Answer: Mechatronics, also called mechatronics engineering, is an interdisciplinary branch of engineering that focuses on the integration of mechanical, electrical and electronic engineering systems, and also includes a combination of robotics, electronics, computer science, telecommunications, systems, control, and product engineering. \n",
      "confidence score: 0.9803206920623779\n",
      "\n",
      "\n",
      "2nd Answer: Sorry, I am not confident enough to provide a second answer. \n",
      "confidence score:  \n",
      "\n",
      "\n",
      "-------------------------------------------------\n",
      "\n",
      "\n",
      "2:what is the origin of mechatronics?\n"
     ]
    },
    {
     "name": "stderr",
     "output_type": "stream",
     "text": [
      "Inferencing Samples: 100%|██████████| 1/1 [00:06<00:00,  6.36s/ Batches]\n"
     ]
    },
    {
     "name": "stdout",
     "output_type": "stream",
     "text": [
      "Answer: The word mechatronics originated in Japanese-English and was created by Tetsuro Mori, an engineer of Yaskawa Electric Corporation. \n",
      "confidence score: 0.5989034175872803\n",
      "\n",
      "\n",
      "2nd Answer: The word mechatronics originated in Japanese-English and was created by Tetsuro Mori, an engineer of Yaskawa Electric Corporation. The word mechatronics was registered as trademark by the company in Japan with the registration number of \"46-32714\" in 1971. An industrial robot is a prime example of a mechatronics system; it includes aspects of electronics, mechanics, and computing to do its day-to-day jobs. Mechatronics systems include production systems, synergy drives,exploration rovers, automotive subsystems such as anti-lock braking systems and spin-assist, and everyday equipment such as autofocus cameras, video, hard disks, CD players and phones. The Anti-lock braking system (ABS) is a mechatronic system.And the control loop formed by driving control (for example cruise control), engine, vehicle driving speed in the real world and speed measurement is a mechatronic system, too. A mechatronics engineer unites the principles of mechanics, electrical, electronics, and computing to generate a simpler, more economical and reliable system. Through collaboration, the mechatronic modules perform the production goals and inherit flexible and agile manufacturing properties in the production scheme. At the intersections of mechanics, electronics, and computing Mechatronics specialists create simpler, smarter systems. Mechatronics specialists work in the fields of cybersecurity, telecommunications, computer science, automotive engineering, robotics, artificial intelligence, and consumer products and packaging.Mechatronics specialists can do quite a bit across multiple disciplines and have a solid base from which to grow. Mechatronics specialists know both mechanical and electrical engineering fundamentals they speak both languages so a mechatronics specialist can work with both mechanical and engineering teams.Mechatronics specialists work with massive industrial robots, smaller robots in pick-and-place operations, control systems for bottling or packaging of food and drink products, drones, designing control systems for rides in amusement parks, prototype development.Some mechatronics specialists are employed in firms where it is necessary to design and maintain automatic equipment. \n",
      "confidence score: 0.5824759602546692\n",
      "\n",
      "\n",
      "-------------------------------------------------\n",
      "\n",
      "\n",
      "3:why persue mechatronics engineering?\n"
     ]
    },
    {
     "name": "stderr",
     "output_type": "stream",
     "text": [
      "Inferencing Samples: 100%|██████████| 1/1 [00:06<00:00,  6.99s/ Batches]\n"
     ]
    },
    {
     "name": "stdout",
     "output_type": "stream",
     "text": [
      "Answer: Mechatronics, also called mechatronics engineering, is an interdisciplinary branch of engineering that focuses on the integration of mechanical, electrical and electronic engineering systems, and also includes a combination of robotics, electronics, computer science, telecommunications, systems, control, and product engineering. \n",
      "confidence score: 0.9632624387741089\n",
      "\n",
      "\n",
      "2nd Answer: Sorry, I am not confident enough to provide a second answer. \n",
      "confidence score:  \n",
      "\n",
      "\n",
      "-------------------------------------------------\n",
      "\n",
      "\n",
      "4:What is a good example of a mechatronics system?\n"
     ]
    },
    {
     "name": "stderr",
     "output_type": "stream",
     "text": [
      "Inferencing Samples: 100%|██████████| 1/1 [00:06<00:00,  6.55s/ Batches]\n"
     ]
    },
    {
     "name": "stdout",
     "output_type": "stream",
     "text": [
      "Answer: An industrial robot is a prime example of a mechatronics system; it includes aspects of electronics, mechanics, and computing to do its day-to-day jobs \n",
      "confidence score: 0.8978163003921509\n",
      "\n",
      "\n",
      "2nd Answer: Sorry, I am not confident enough to provide a second answer. \n",
      "confidence score:  \n",
      "\n",
      "\n",
      "-------------------------------------------------\n",
      "\n",
      "\n",
      "5:What does a mechatronics engineer do?\n"
     ]
    },
    {
     "name": "stderr",
     "output_type": "stream",
     "text": [
      "Inferencing Samples: 100%|██████████| 1/1 [00:06<00:00,  6.13s/ Batches]\n"
     ]
    },
    {
     "name": "stdout",
     "output_type": "stream",
     "text": [
      "Answer: A mechatronics engineer unites the principles of mechanics, electrical, electronics, and computing to generate a simpler, more economical and reliable system. \n",
      "confidence score: 0.9970409870147705\n",
      "\n",
      "\n",
      "2nd Answer: A mechatronics engineer unites the principles of mechanics, electrical, electronics, and computing to generate a simpler, more economical and reliable system. Through collaboration, the mechatronic modules perform the production goals and inherit flexible and agile manufacturing \n",
      "confidence score: 0.7221720218658447\n",
      "\n",
      "\n",
      "-------------------------------------------------\n",
      "\n",
      "\n",
      "6:salary of a mechatronics engineer?\n"
     ]
    },
    {
     "name": "stderr",
     "output_type": "stream",
     "text": [
      "Inferencing Samples: 100%|██████████| 1/1 [00:06<00:00,  6.70s/ Batches]\n"
     ]
    },
    {
     "name": "stdout",
     "output_type": "stream",
     "text": [
      "Answer: According to Recruiter, the mean salary for a mechatronics engineer is $88,800 with the top ten percent earning close to $103,380. \n",
      "confidence score: 0.997150182723999\n",
      "\n",
      "\n",
      "2nd Answer: Sorry, I am not confident enough to provide a second answer. \n",
      "confidence score:  \n",
      "\n",
      "\n",
      "-------------------------------------------------\n",
      "\n",
      "\n",
      "7:Is a mechatronics engineer worth hiring?\n"
     ]
    },
    {
     "name": "stderr",
     "output_type": "stream",
     "text": [
      "Inferencing Samples: 100%|██████████| 1/1 [00:07<00:00,  7.03s/ Batches]\n"
     ]
    },
    {
     "name": "stdout",
     "output_type": "stream",
     "text": [
      "Answer: Mechatronics specialists can do quite a bit across multiple disciplines and have a solid base from which to grow. \n",
      "confidence score: 0.6338464617729187\n",
      "\n",
      "\n",
      "2nd Answer: Mechatronics specialists can do quite a bit across multiple disciplines and have a solid base from which to grow. Mechatronics specialists know both mechanical and electrical engineering fundamentals they speak both languages so a mechatronics specialist can work with both mechanical and engineering teams. \n",
      "confidence score: 0.6171905398368835\n",
      "\n",
      "\n",
      "-------------------------------------------------\n",
      "\n",
      "\n",
      "8:What does a mechatronics specialist do?\n"
     ]
    },
    {
     "name": "stderr",
     "output_type": "stream",
     "text": [
      "Inferencing Samples: 100%|██████████| 1/1 [00:07<00:00,  7.04s/ Batches]\n"
     ]
    },
    {
     "name": "stdout",
     "output_type": "stream",
     "text": [
      "Answer: Mechatronics specialists create simpler, smarter systems. \n",
      "confidence score: 0.9213274717330933\n",
      "\n",
      "\n",
      "2nd Answer: At the intersections of mechanics, electronics, and computing. mechatronics specialists create simpler, smarter systems. \n",
      "confidence score: 0.549780011177063\n",
      "\n",
      "\n",
      "-------------------------------------------------\n",
      "\n",
      "\n",
      "9:Is there the connection between Iot and mechatronics?\n"
     ]
    },
    {
     "name": "stderr",
     "output_type": "stream",
     "text": [
      "Inferencing Samples: 100%|██████████| 1/1 [00:07<00:00,  7.09s/ Batches]\n"
     ]
    },
    {
     "name": "stdout",
     "output_type": "stream",
     "text": [
      "Answer: IoT and mechatronics are complementary. Many of the smart components associated with the Internet of Things will be essentially mechatronic. The development of the IoT is forcing mechatronics engineers, designers, practitioners and educators to research the ways in which mechatronic systems and components are perceived, designed and manufactured. This allows them to face up to new issues such as data security, machine ethics and the human-machine interface. \n",
      "confidence score: 0.8660826683044434\n",
      "\n",
      "\n",
      "2nd Answer: IoT and mechatronics are complementary. \n",
      "confidence score: 0.6216765642166138\n",
      "\n",
      "\n",
      "-------------------------------------------------\n",
      "\n",
      "\n",
      "10:job sector for mechatronics engineers?\n"
     ]
    },
    {
     "name": "stderr",
     "output_type": "stream",
     "text": [
      "Inferencing Samples: 100%|██████████| 1/1 [00:06<00:00,  6.99s/ Batches]\n"
     ]
    },
    {
     "name": "stdout",
     "output_type": "stream",
     "text": [
      "Answer: Mechatronics specialists work in the fields of cybersecurity, telecommunications, computer science, automotive engineering, robotics, artificial intelligence, and consumer products and packaging. \n",
      "confidence score: 0.9134292602539062\n",
      "\n",
      "\n",
      "2nd Answer: Some mechatronics specialists are employed in firms where it is necessary to design and maintain automatic equipment. This includes industries such as manufacturing, mining, aviation, robotics, defense, and transport. Other mechatronic specialists are employed by large manufacturing companies involved in high-volume production. \n",
      "confidence score: 0.343616783618927\n",
      "\n",
      "\n",
      "-------------------------------------------------\n",
      "\n",
      "\n",
      "11:career opputunities for a mechatronics engineer?\n"
     ]
    },
    {
     "name": "stderr",
     "output_type": "stream",
     "text": [
      "Inferencing Samples: 100%|██████████| 1/1 [00:07<00:00,  7.26s/ Batches]\n"
     ]
    },
    {
     "name": "stdout",
     "output_type": "stream",
     "text": [
      "Answer: A mechatronics engineering degree can prepare you for careers designing and building bio-inspiredmachines and medical devices that mimic the behaviors of humans, animals and plants (this is called bio-mimetics). You also may use knowledge of mechatronics engineering technology to improve clinical equipment, surgical procedures, rehabilitation strategies, micro-implants, prosthesesand more. \n",
      "confidence score: 0.9482414722442627\n",
      "\n",
      "\n",
      "2nd Answer: Mechatronics specialists can do quite a bit across multiple disciplines and have a solid base from which to grow. Mechatronics specialists know both mechanical and electrical engineering fundamentals they speak both languages so a mechatronics specialist can work with both mechanical and engineering teams. \n",
      "confidence score: 0.6507439613342285\n",
      "\n",
      "\n",
      "-------------------------------------------------\n",
      "\n",
      "\n",
      "12:How are mechatronics engineers changing the world?\n"
     ]
    },
    {
     "name": "stderr",
     "output_type": "stream",
     "text": [
      "Inferencing Samples: 100%|██████████| 1/1 [00:06<00:00,  6.99s/ Batches]\n"
     ]
    },
    {
     "name": "stdout",
     "output_type": "stream",
     "text": [
      "Answer: Mechatronics engineers today are changing the world by useing a multidisciplinary and systems-based approach to develop the intelligent electromechanical devices and integrated systems present in our daily lives including: smartphones, 3D printers, satellite systems, intelligent vehicle systems, wearable devices. \n",
      "confidence score: 0.9950869083404541\n",
      "\n",
      "\n",
      "2nd Answer: Mechatronics engineers today are changing the world by useing a multidisciplinary and systems-based approach to develop the intelligent electromechanical devices and integrated systems present in our daily lives including: smartphones, 3D printers \n",
      "confidence score: 0.4921157956123352\n",
      "\n",
      "\n",
      "-------------------------------------------------\n",
      "\n",
      "\n",
      "13:Job responsibilities of a mechatronics engineer?\n"
     ]
    },
    {
     "name": "stderr",
     "output_type": "stream",
     "text": [
      "Inferencing Samples: 100%|██████████| 1/1 [00:06<00:00,  6.92s/ Batches]\n"
     ]
    },
    {
     "name": "stdout",
     "output_type": "stream",
     "text": [
      "Answer: A mechatronics engineering degree can prepare you for careers designing and building bio-inspiredmachines and medical devices that mimic the behaviors of humans, animals and plants (this is called bio-mimetics). You also may use knowledge of mechatronics engineering technology to improve clinical equipment, surgical procedures, rehabilitation strategies, micro-implants, prosthesesand more. \n",
      "confidence score: 0.992080807685852\n",
      "\n",
      "\n",
      "2nd Answer: A mechatronics engineering degree can prepare you for careers designing and building bio-inspiredmachines and medical devices that mimic the behaviors of humans, animals and plants (this is called bio-mimetics). You also may use knowledge of mechatronics engineering technology to improve clinical equipment, surgical procedures, rehabilitation strategies, micro-implants, prosthesesand more.According to salary.com, biomedical engineering technicians earn an average of $62,282 per year.Mechatronics is an essential foundation for the expected growth in automation and manufacturing.Modern production equipment consists of mechatronic modules that are integrated according to a control architecture.Mechatronic systems represent a large part of the functions of an automobile. The control loop formed by sensor information processing, actuator, mechanical (physical) change is found in many systems. \n",
      "confidence score: 0.5635464787483215\n",
      "\n",
      "\n",
      "-------------------------------------------------\n",
      "\n",
      "\n",
      "14:job sector for mechatronics engineers?\n"
     ]
    },
    {
     "name": "stderr",
     "output_type": "stream",
     "text": [
      "Inferencing Samples: 100%|██████████| 1/1 [00:06<00:00,  6.73s/ Batches]\n"
     ]
    },
    {
     "name": "stdout",
     "output_type": "stream",
     "text": [
      "Answer: Mechatronics specialists work in the fields of cybersecurity, telecommunications, computer science, automotive engineering, robotics, artificial intelligence, and consumer products and packaging. \n",
      "confidence score: 0.9134292602539062\n",
      "\n",
      "\n",
      "2nd Answer: Some mechatronics specialists are employed in firms where it is necessary to design and maintain automatic equipment. This includes industries such as manufacturing, mining, aviation, robotics, defense, and transport. Other mechatronic specialists are employed by large manufacturing companies involved in high-volume production. \n",
      "confidence score: 0.343616783618927\n",
      "\n",
      "\n",
      "-------------------------------------------------\n",
      "\n",
      "\n",
      "15:what are some examples of mechatronics products?\n"
     ]
    },
    {
     "name": "stderr",
     "output_type": "stream",
     "text": [
      "Inferencing Samples: 100%|██████████| 1/1 [00:06<00:00,  6.79s/ Batches]\n"
     ]
    },
    {
     "name": "stdout",
     "output_type": "stream",
     "text": [
      "Answer: Sorry! I am not confident to answer this question. I am a Language model and I don't have knowledge other than Mechatronics Engineering. You can find some demo questions in the github repo provided by the owner. Thank you! \n",
      "confidence score:  \n",
      "\n",
      "\n",
      "2nd Answer:  \n",
      "confidence score:  \n",
      "\n",
      "\n",
      "-------------------------------------------------\n",
      "\n",
      "\n",
      "16:What is the salary of a robotic expert?\n"
     ]
    },
    {
     "name": "stderr",
     "output_type": "stream",
     "text": [
      "Inferencing Samples: 100%|██████████| 1/1 [00:06<00:00,  6.83s/ Batches]\n"
     ]
    },
    {
     "name": "stdout",
     "output_type": "stream",
     "text": [
      "Answer: The average salary for a robotics technician, according to recruiter.com, is $51,600 per year. \n",
      "confidence score: 0.9993337988853455\n",
      "\n",
      "\n",
      "2nd Answer: Sorry, I am not confident enough to provide a second answer. \n",
      "confidence score:  \n",
      "\n",
      "\n",
      "-------------------------------------------------\n",
      "\n",
      "\n",
      "17:What can I do after completing a degree in mechatronics?\n"
     ]
    },
    {
     "name": "stderr",
     "output_type": "stream",
     "text": [
      "Inferencing Samples: 100%|██████████| 1/1 [00:07<00:00,  7.01s/ Batches]\n"
     ]
    },
    {
     "name": "stdout",
     "output_type": "stream",
     "text": [
      "Answer: A degree in mechatronics can lead to management positions, including project management.Workplaces range from laboratories and processing plants to engineering design offices. \n",
      "confidence score: 0.9012131094932556\n",
      "\n",
      "\n",
      "2nd Answer: Sorry, I am not confident enough to provide a second answer. \n",
      "confidence score:  \n",
      "\n",
      "\n",
      "-------------------------------------------------\n",
      "\n",
      "\n",
      "18:whay should I hire a mechatronics?\n"
     ]
    },
    {
     "name": "stderr",
     "output_type": "stream",
     "text": [
      "Inferencing Samples: 100%|██████████| 1/1 [00:07<00:00,  7.23s/ Batches]\n"
     ]
    },
    {
     "name": "stdout",
     "output_type": "stream",
     "text": [
      "Answer: Sorry! I am not confident to answer this question. I am a Language model and I don't have knowledge other than Mechatronics Engineering. You can find some demo questions in the github repo provided by the owner. Thank you! \n",
      "confidence score:  \n",
      "\n",
      "\n",
      "2nd Answer:  \n",
      "confidence score:  \n",
      "\n",
      "\n",
      "-------------------------------------------------\n",
      "\n",
      "\n",
      "19:what is the best university in bangladesh for mechatronics degree?\n"
     ]
    },
    {
     "name": "stderr",
     "output_type": "stream",
     "text": [
      "Inferencing Samples: 100%|██████████| 1/1 [00:07<00:00,  7.12s/ Batches]\n"
     ]
    },
    {
     "name": "stdout",
     "output_type": "stream",
     "text": [
      "Answer: In Bangladesh, RUET is the first public university to introduce Mechatronics Engineering in the year of 2013. This department offers a world-class education to its students. At present, there are nine faculty members who teach over more than 200 undergraduate students each year. \n",
      "confidence score: 0.9861017465591431\n",
      "\n",
      "\n",
      "2nd Answer: In Bangladesh, RUET is the first public university to introduce Mechatronics Engineering in the year of 2013. \n",
      "confidence score: 0.5745425820350647\n",
      "\n",
      "\n",
      "-------------------------------------------------\n",
      "\n",
      "\n",
      "20:Mechatronics engineering in Bangladesh?\n"
     ]
    },
    {
     "name": "stderr",
     "output_type": "stream",
     "text": [
      "Inferencing Samples: 100%|██████████| 1/1 [00:06<00:00,  6.98s/ Batches]\n"
     ]
    },
    {
     "name": "stdout",
     "output_type": "stream",
     "text": [
      "Answer: In Bangladesh, RUET is the first public university to introduce Mechatronics Engineering in the year of 2013. This department offers a world-class education to its students. At present, there are nine faculty members who teach over more than 200 undergraduate students each year. \n",
      "confidence score: 0.8397184610366821\n",
      "\n",
      "\n",
      "2nd Answer: In Bangladesh, RUET is the first public university to introduce Mechatronics Engineering in the year of 2013. This department offers a world-class education to its students. At present, there are nine faculty members who teach over more than 200 undergraduate students each year.Rajshahi University of Engineering & Technology (RUET) is the prestigious public Engineering University & center of excellence offers high quality education and research in the field of engineering and technology.When someone asks, What can you do with a mechatronics degree? very often the answer is Almost anything you want.A degree in mechatronics can lead to management positions, including project management.Workplaces range from laboratories and processing plants to engineering design offices.As more businesses advance their technologies and turns to sophisticated intellegent systems and robotics, mechatronics engineering will continue to grow in demand. Even manufacturing businesses considering a technology upgrade turn to mecahtronics engineers in order to evaluate assembly line effeciency and costs.Mechatronic specialists have broad multidisciplinary skills, so they are able to move into more traditional engineering disciplines.A mechatronics specialist is a creative problem solver who can work on a team.Many mechatronic engineers use computer-aided design (CAD) and other engineering software for modeling, simulating, and analyzing complex mechanical, electronic, or other engineering systems.There are many tasks mechatronic specialists perform, depending on their particular industry.Some design, develop, maintain, and manage high-technology engineering systems for the automation of industrial tasks. \n",
      "confidence score: 0.5979547500610352\n",
      "\n",
      "\n",
      "-------------------------------------------------\n",
      "\n",
      "\n",
      "21:what are the roles of mechatronics in healthcare?\n"
     ]
    },
    {
     "name": "stderr",
     "output_type": "stream",
     "text": [
      "Inferencing Samples: 100%|██████████| 1/1 [00:07<00:00,  7.19s/ Batches]\n"
     ]
    },
    {
     "name": "stdout",
     "output_type": "stream",
     "text": [
      "Answer: A mechatronics engineering degree can prepare you for careers designing and building bio-inspiredmachines and medical devices that mimic the behaviors of humans, animals and plants (this is called bio-mimetics). You also may use knowledge of mechatronics engineering technology to improve clinical equipment, surgical procedures, rehabilitation strategies, micro-implants, prosthesesand more. \n",
      "confidence score: 0.9939604997634888\n",
      "\n",
      "\n",
      "2nd Answer: A mechatronics engineering degree can prepare you for careers designing and building bio-inspiredmachines and medical devices that mimic the behaviors of humans, animals and plants (this is called bio-mimetics). You also may use knowledge of mechatronics engineering technology to improve clinical equipment, surgical procedures, rehabilitation strategies, micro-implants, prosthesesand more.According to salary.com, biomedical engineering technicians earn an average of $62,282 per year.Mechatronics is an essential foundation for the expected growth in automation and manufacturing.Modern production equipment consists of mechatronic modules that are integrated according to a control architecture.Mechatronic systems represent a large part of the functions of an automobile. The control loop formed by sensor information processing, actuator, mechanical (physical) change is found in many systems. One of the top reasons to get a mechatronics degree is the strong technical foundation you will gain in robotics. Robotics is used in the medical and healthcare fields, for the military, or in advanced manufacturing \n",
      "confidence score: 0.4687528908252716\n",
      "\n",
      "\n",
      "-------------------------------------------------\n",
      "\n",
      "\n",
      "22:What does a mechatronics engineer do in the medical field?\n"
     ]
    },
    {
     "name": "stderr",
     "output_type": "stream",
     "text": [
      "Inferencing Samples: 100%|██████████| 1/1 [00:06<00:00,  6.55s/ Batches]\n"
     ]
    },
    {
     "name": "stdout",
     "output_type": "stream",
     "text": [
      "Answer: A mechatronics engineering degree can prepare you for careers designing and building bio-inspiredmachines and medical devices that mimic the behaviors of humans, animals and plants (this is called bio-mimetics). You also may use knowledge of mechatronics engineering technology to improve clinical equipment, surgical procedures, rehabilitation strategies, micro-implants, prosthesesand more. \n",
      "confidence score: 0.9584589004516602\n",
      "\n",
      "\n",
      "2nd Answer: Sorry, I am not confident enough to provide a second answer. \n",
      "confidence score:  \n",
      "\n",
      "\n",
      "-------------------------------------------------\n",
      "\n",
      "\n",
      "23:What are the roles of mechatronics engineers in an industry?\n"
     ]
    },
    {
     "name": "stderr",
     "output_type": "stream",
     "text": [
      "Inferencing Samples: 100%|██████████| 1/1 [00:06<00:00,  6.69s/ Batches]\n"
     ]
    },
    {
     "name": "stdout",
     "output_type": "stream",
     "text": [
      "Answer: There are many tasks mechatronic specialists perform, depending on their particular industry.Some design, develop, maintain, and manage high-technology engineering systems for the automation of industrial tasks. Others apply mechatronic/automated solutions to the transfer of material components or finished goods, or design and assist with the manufacture of consumer products such as cameras and video recorders. According to Recruiter, the mean salary for a mechatronics engineer is $88,800 with the top ten percent earning close to $103,380.Mechatronics engineering technology jobs in telecommunication and information services include roles such as high-voltage engineer, field or cable technician, networking technician, and more. Job responsibilities can include installing, maintaining and repairing mobile phones, computer networks, videoconferencing equipment, fiber-optic cables, electrical systems and more. \n",
      "confidence score: 0.6131324172019958\n",
      "\n",
      "\n",
      "2nd Answer: Many mechatronic engineers use computer-aided design (CAD) and other engineering software for modeling, simulating, and analyzing complex mechanical, electronic, or other engineering systems.There are many tasks mechatronic specialists perform, depending on their particular industry.Some design, develop, maintain, and manage high-technology engineering systems for the automation of industrial tasks. Others apply mechatronic/automated solutions to the transfer of material components or finished goods, or design and assist with the manufacture of consumer products such as cameras and video recorders \n",
      "confidence score: 0.40992480516433716\n",
      "\n",
      "\n",
      "-------------------------------------------------\n",
      "\n",
      "\n",
      "24:Is a mechatronics engineer suited for the defense industry?\n"
     ]
    },
    {
     "name": "stderr",
     "output_type": "stream",
     "text": [
      "Inferencing Samples: 100%|██████████| 1/1 [00:06<00:00,  6.40s/ Batches]\n"
     ]
    },
    {
     "name": "stdout",
     "output_type": "stream",
     "text": [
      "Answer: The Department of Defense predicts that 40% of military ground troops will be roboticin the near future; in turn, this will increase the need for robotic technicians withstrong mechatronics engineering technology degrees. \n",
      "confidence score: 0.7892038822174072\n",
      "\n",
      "\n",
      "2nd Answer: Mechatronics degree program will be prepared to work for the U.S. government supporting the design, construction, alteration, testing and maintenance of new robotic and dronetechnologies, as well as smart technologies used in surveillance, ground operations,border control, deployment logistics and more.According to glassdoor.com, mechatronics engineering technician salaries at the U.S. Department of Defense can range from $85,040 to $91,042, and the average salary for a U.S. Army Corps engineering technicianis $53,329.An emerging variant of this field is biomechatronics, whose purpose is to integrate mechanical parts with a human being, usually in the form of removable gadgets such as an exoskeleton. \n",
      "confidence score: 0.5682287812232971\n",
      "\n",
      "\n",
      "-------------------------------------------------\n",
      "\n",
      "\n",
      "25:Is a mechatronics engineer suited for the telecom industry?\n"
     ]
    },
    {
     "name": "stderr",
     "output_type": "stream",
     "text": [
      "Inferencing Samples: 100%|██████████| 1/1 [00:06<00:00,  6.56s/ Batches]\n"
     ]
    },
    {
     "name": "stdout",
     "output_type": "stream",
     "text": [
      "Answer: Mechatronics engineering technology jobs in telecommunication and information services include roles such as high-voltage engineer, field or cable technician, networking technician, and more. Job responsibilities can include installing, maintaining and repairing mobile phones, computer networks, videoconferencing equipment, fiber-optic cables, electrical systems and more. \n",
      "confidence score: 0.9887211322784424\n",
      "\n",
      "\n",
      "2nd Answer: Sorry, I am not confident enough to provide a second answer. \n",
      "confidence score:  \n",
      "\n",
      "\n",
      "-------------------------------------------------\n",
      "\n",
      "\n",
      "26:What are the applications of mechatronics in automobiles?\n"
     ]
    },
    {
     "name": "stderr",
     "output_type": "stream",
     "text": [
      "Inferencing Samples: 100%|██████████| 1/1 [00:06<00:00,  6.98s/ Batches]"
     ]
    },
    {
     "name": "stdout",
     "output_type": "stream",
     "text": [
      "Answer: Mechatronic systems represent a large part of the functions of an automobile. The control loop formed by sensor information processing, actuator, mechanical (physical) change is found in many systems. One of the top reasons to get a mechatronics degree is the strong technical foundation you will gain in robotics. Robotics is used in the medical and healthcare fields, for the military, or in advanced manufacturing.In these positions you'll build robotic solutions that improve manufacturing quality, quantity and productivity; you'll manage, execute and troubleshoot electrical, robotic and automation equipment; and you'll ensure that all robotic equipment is compliant with industry standards.The average salary for a robotics technician, according to recruiter.com, is $51,600 per year.The Internet of things (IoT) is the inter-networking of physical devices, embedded with electronics, software, sensors, actuators, and network connectivity which enable these objects to collect and exchange data.IoT and mechatronics are complementary. Many of the smart components associated with the Internet of Things will be essentially mechatronic. The development of the IoT is forcing mechatronics engineers, designers, practitioners and educators to research the ways in which mechatronic systems and components are perceived, designed and manufactured. \n",
      "confidence score: 0.6204010248184204\n",
      "\n",
      "\n",
      "2nd Answer: Mechatronic systems represent a large part of the functions of an automobile. The control loop formed by sensor information processing, actuator, mechanical (physical) change is found in many systems. \n",
      "confidence score: 0.6183450818061829\n",
      "\n",
      "\n",
      "-------------------------------------------------\n",
      "\n",
      "\n"
     ]
    },
    {
     "name": "stderr",
     "output_type": "stream",
     "text": [
      "\n"
     ]
    }
   ],
   "source": [
    "i = 1\n",
    "for question in questions:\n",
    "  print(str(i) + ':' + question)\n",
    "  get_answer(question)\n",
    "  print('\\n')\n",
    "  print('-------------------------------------------------')\n",
    "  print('\\n')\n",
    "  i+=1"
   ]
  },
  {
   "cell_type": "code",
   "execution_count": 1,
   "metadata": {},
   "outputs": [
    {
     "name": "stdout",
     "output_type": "stream",
     "text": [
      "IMPORTANT: You are using gradio version 3.12.0, however version 3.14.0 is available, please upgrade.\n",
      "--------\n",
      "Running on local URL:  http://127.0.0.1:7860\n",
      "\n",
      "To create a public link, set `share=True` in `launch()`.\n"
     ]
    },
    {
     "data": {
      "text/html": [
       "<div><iframe src=\"http://127.0.0.1:7860/\" width=\"100%\" height=\"500\" allow=\"autoplay; camera; microphone; clipboard-read; clipboard-write;\" frameborder=\"0\" allowfullscreen></iframe></div>"
      ],
      "text/plain": [
       "<IPython.core.display.HTML object>"
      ]
     },
     "metadata": {},
     "output_type": "display_data"
    },
    {
     "data": {
      "text/plain": []
     },
     "execution_count": 1,
     "metadata": {},
     "output_type": "execute_result"
    }
   ],
   "source": [
    "import gradio as gr\n",
    "\n",
    "def get_answer_gr(question):\n",
    "\n",
    "  prediction = mte_reader.predict_on_texts(question,[context])\n",
    "\n",
    "  if len(prediction['answers']) > 2:\n",
    "    first_anwer = prediction['answers'][0:2][0].answer\n",
    "    first_score = round(prediction['answers'][0:2][0].score, 2)\n",
    "    second_anwer = prediction['answers'][0:2][1].answer\n",
    "    second_score = round(prediction['answers'][0:2][1].score, 2)\n",
    "\n",
    "  elif len(prediction['answers']) == 2:\n",
    "    first_anwer = prediction['answers'][0].answer\n",
    "    first_score = round(prediction['answers'][0].score, 2)\n",
    "    second_anwer = prediction['answers'][1].answer\n",
    "    second_score = round(prediction['answers'][1].score, 2)\n",
    "\n",
    "  elif len(prediction['answers']) == 1:\n",
    "    first_anwer = prediction['answers'][0].answer\n",
    "    first_score = round(prediction['answers'][0].score, 2)\n",
    "    second_anwer = \"Sorry, I am not confident enough to provide a second answer.\"\n",
    "    second_score = \" \"\n",
    "\n",
    "  elif len(prediction['answers']) == 0:\n",
    "    first_anwer = \"Sorry! I am not confident to answer this question. I am a Language model and I don't have knowledge other than Mechatronics Engineering. You can find some demo questions in the github repo provided by the owner. Thank you!\"\n",
    "    first_score = ' '\n",
    "    second_anwer = \"\"\n",
    "    second_score = \" \"\n",
    "\n",
    "  return '{} \\nconfidence score: {}'.format(first_anwer, (first_score)), '{} \\nconfidence score: {}'.format(second_anwer, second_score)\n",
    "\n",
    "demo = gr.Interface(\n",
    "    fn=get_answer_gr,\n",
    "    inputs=gr.Textbox(lines=3, placeholder=\"Question Here...\"),\n",
    "    outputs= [gr.Textbox(lines=3, label=\"Answer 1\"), gr.Textbox(lines=3,label=\"Answer 2\")],\n",
    "\n",
    "    title=\"Mechatronics QA System\",\n",
    "    description=\"Ask your Mechatronics related question. I shall give you answer. Remember, I am a language model and don't have knowledge outside my context. Enjoy! - Abu Bakar Siddik, A proud Mechatronics Engineering Student.\",\n",
    "    article = \"Check out the github repo: https://github.com/Bakar31/MTE-QA\"\n",
    ")\n",
    "demo.launch()"
   ]
  },
  {
   "cell_type": "code",
   "execution_count": null,
   "metadata": {},
   "outputs": [],
   "source": []
  }
 ],
 "metadata": {
  "kernelspec": {
   "display_name": "Python 3.9.15 ('haystack')",
   "language": "python",
   "name": "python3"
  },
  "language_info": {
   "codemirror_mode": {
    "name": "ipython",
    "version": 3
   },
   "file_extension": ".py",
   "mimetype": "text/x-python",
   "name": "python",
   "nbconvert_exporter": "python",
   "pygments_lexer": "ipython3",
   "version": "3.9.15"
  },
  "orig_nbformat": 4,
  "vscode": {
   "interpreter": {
    "hash": "6f41ac3b06274dc798d15b8d60704a32c5dd4f04377f4fe10bcd0cc0aebc15f0"
   }
  }
 },
 "nbformat": 4,
 "nbformat_minor": 2
}
